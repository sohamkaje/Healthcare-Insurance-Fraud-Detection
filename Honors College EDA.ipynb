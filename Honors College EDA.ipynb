{
 "cells": [
  {
   "cell_type": "code",
   "execution_count": 2,
   "id": "ca8522ca-b57e-495f-aebf-8e12c4e364f5",
   "metadata": {},
   "outputs": [],
   "source": [
    "import pandas as pd\n",
    "import matplotlib.pyplot as plt\n",
    "import seaborn as sns\n",
    "import os"
   ]
  },
  {
   "cell_type": "code",
   "execution_count": 4,
   "id": "119f78d6-0948-4b3f-b4ff-33a44943c7ae",
   "metadata": {},
   "outputs": [],
   "source": [
    "# Load cleaned datasets from Dataset_Cleaned folder\n",
    "claims = pd.read_csv('Dataset_Cleaned/Cleaned_Train_Claims.csv')\n",
    "beneficiary = pd.read_csv('Dataset_Cleaned/Cleaned_Train_Beneficiary.csv')\n",
    "inpatient = pd.read_csv('Dataset_Cleaned/Cleaned_Train_Inpatient.csv')\n",
    "outpatient = pd.read_csv('Dataset_Cleaned/Cleaned_Train_Outpatient.csv')"
   ]
  },
  {
   "cell_type": "code",
   "execution_count": 6,
   "id": "c652ebaf-a263-4f41-8e7a-b93294d7d86a",
   "metadata": {},
   "outputs": [],
   "source": [
    "# To save EDA images\n",
    "output_folder = 'EDA_Images'\n",
    "os.makedirs(output_folder, exist_ok=True)"
   ]
  },
  {
   "cell_type": "code",
   "execution_count": 8,
   "id": "abdd3a95-ccfd-4489-9cb8-c0cdf663808e",
   "metadata": {},
   "outputs": [],
   "source": [
    "# 1. Fraud Label Distribution (Claims Data)\n",
    "plt.figure(figsize=(6, 4))\n",
    "sns.countplot(data=claims, x='PotentialFraud', hue='PotentialFraud', palette='Set2', legend=False)\n",
    "plt.title('Fraud Label Distribution (Claims Data)')\n",
    "plt.xlabel('Potential Fraud')\n",
    "plt.ylabel('Number of Providers')\n",
    "plt.tight_layout()\n",
    "plt.savefig(os.path.join(output_folder, 'fraud_label_distribution.png'))\n",
    "plt.close()"
   ]
  },
  {
   "cell_type": "code",
   "execution_count": 9,
   "id": "cd081851-dbf5-4e20-8284-cbeb20a8655e",
   "metadata": {},
   "outputs": [],
   "source": [
    "# 2. Chronic Conditions Among Patients (Beneficiary Data)\n",
    "chronic_cols = [col for col in beneficiary.columns if col.startswith('ChronicCond_')]\n",
    "chronic_sums = beneficiary[chronic_cols].replace({2: 0}).sum().sort_values(ascending=False)\n",
    "\n",
    "plt.figure(figsize=(10, 6))\n",
    "chronic_sums.plot(kind='bar', color='skyblue')\n",
    "plt.title('Prevalence of Chronic Conditions')\n",
    "plt.ylabel('Number of Beneficiaries')\n",
    "plt.xticks(rotation=45, ha='right')\n",
    "plt.tight_layout()\n",
    "plt.savefig(os.path.join(output_folder, 'chronic_conditions_distribution.png'))\n",
    "plt.close()"
   ]
  },
  {
   "cell_type": "code",
   "execution_count": 10,
   "id": "9ec30fc1-09ff-4792-8beb-cfaeac0e67f4",
   "metadata": {},
   "outputs": [],
   "source": [
    "# 3. Reimbursement Amount Distribution (Inpatient Data)\n",
    "plt.figure(figsize=(8, 5))\n",
    "sns.histplot(inpatient['InscClaimAmtReimbursed'], bins=50, kde=False, color='salmon')\n",
    "plt.title('Distribution of Inpatient Reimbursement Amounts')\n",
    "plt.xlabel('Reimbursement Amount')\n",
    "plt.ylabel('Number of Claims')\n",
    "plt.xlim(0, 50000)  # Adjust as needed for better scaling\n",
    "plt.tight_layout()\n",
    "plt.savefig(os.path.join(output_folder, 'inpatient_reimbursement_distribution.png'))\n",
    "plt.close()"
   ]
  },
  {
   "cell_type": "code",
   "execution_count": 11,
   "id": "c452b59e-9cc0-4ca8-b63c-1e5ec2f87e57",
   "metadata": {},
   "outputs": [],
   "source": [
    "# 4. Claim Volume per Provider (Outpatient Data)\n",
    "claim_counts = outpatient['Provider'].value_counts().head(20)\n",
    "\n",
    "plt.figure(figsize=(10, 6))\n",
    "claim_counts.plot(kind='bar', color='teal')\n",
    "plt.title('Top 20 Providers by Outpatient Claim Volume')\n",
    "plt.ylabel('Number of Claims')\n",
    "plt.xlabel('Provider')\n",
    "plt.xticks(rotation=45, ha='right')\n",
    "plt.tight_layout()\n",
    "plt.savefig(os.path.join(output_folder, 'outpatient_claims_per_provider.png'))\n",
    "plt.close()"
   ]
  }
 ],
 "metadata": {
  "kernelspec": {
   "display_name": "Python 3 (ipykernel)",
   "language": "python",
   "name": "python3"
  },
  "language_info": {
   "codemirror_mode": {
    "name": "ipython",
    "version": 3
   },
   "file_extension": ".py",
   "mimetype": "text/x-python",
   "name": "python",
   "nbconvert_exporter": "python",
   "pygments_lexer": "ipython3",
   "version": "3.12.6"
  }
 },
 "nbformat": 4,
 "nbformat_minor": 5
}
