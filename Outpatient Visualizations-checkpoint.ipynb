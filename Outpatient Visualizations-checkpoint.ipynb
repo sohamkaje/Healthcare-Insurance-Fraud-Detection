{
 "cells": [
  {
   "cell_type": "code",
   "execution_count": 1,
   "id": "7d989b6c-14ae-4b30-8bc2-0ec01fb040b3",
   "metadata": {},
   "outputs": [],
   "source": [
    "import pandas as pd\n",
    "import matplotlib.pyplot as plt\n",
    "import seaborn as sns\n",
    "import os"
   ]
  },
  {
   "cell_type": "code",
   "execution_count": 2,
   "id": "ef552cf0-de81-4e1a-ac7e-f7bef5375384",
   "metadata": {},
   "outputs": [],
   "source": [
    "# Load data\n",
    "outpatient = pd.read_csv('Dataset_Cleaned/Cleaned_Train_Outpatient.csv')\n",
    "claims = pd.read_csv('Dataset_Cleaned/Cleaned_Train_Claims.csv')"
   ]
  },
  {
   "cell_type": "code",
   "execution_count": 3,
   "id": "38d333a8-92ab-468d-991a-0d6f917dd1f4",
   "metadata": {},
   "outputs": [],
   "source": [
    "# Merge to include fraud labels\n",
    "data = outpatient.merge(claims, on='Provider', how='left')"
   ]
  },
  {
   "cell_type": "code",
   "execution_count": 4,
   "id": "95f101b5-2bd9-445d-914f-c7a5754c7394",
   "metadata": {},
   "outputs": [],
   "source": [
    "# Convert date column to datetime\n",
    "data['ClaimStartDt'] = pd.to_datetime(data['ClaimStartDt'], errors='coerce')\n",
    "data['Month'] = data['ClaimStartDt'].dt.month"
   ]
  },
  {
   "cell_type": "code",
   "execution_count": 5,
   "id": "34d16815-e893-4a6c-a38d-1b617f7c42b0",
   "metadata": {},
   "outputs": [],
   "source": [
    "# Make sure output directory exists\n",
    "os.makedirs('Visualization_Images', exist_ok=True)"
   ]
  },
  {
   "cell_type": "code",
   "execution_count": 6,
   "id": "3d46aa6e-186e-494c-ae84-e11879dff255",
   "metadata": {},
   "outputs": [],
   "source": [
    "# -------------------------------\n",
    "# Visualization 1: Monthly Outpatient Claims Volume\n",
    "# -------------------------------\n",
    "plt.figure(figsize=(10, 6))\n",
    "sns.countplot(data=data, x='Month', color='skyblue')\n",
    "plt.title('Monthly Outpatient Claim Volume')\n",
    "plt.xlabel('Month')\n",
    "plt.ylabel('Number of Claims')\n",
    "plt.tight_layout()\n",
    "plt.savefig('Visualization_Images/monthly_outpatient_claims.png')\n",
    "plt.close()"
   ]
  },
  {
   "cell_type": "code",
   "execution_count": 12,
   "id": "fb3beed1-8dd1-4c80-af8c-5bf7b485745c",
   "metadata": {},
   "outputs": [],
   "source": [
    "# -------------------------------\n",
    "# Visualization 2: Reimbursement per Claim (Fraud vs. Non-Fraud)\n",
    "# -------------------------------\n",
    "plt.figure(figsize=(8, 5))\n",
    "sns.boxplot(data=data, x='PotentialFraud', y='InscClaimAmtReimbursed', hue='PotentialFraud', palette='Set3', legend=False)\n",
    "plt.yscale('log')\n",
    "plt.title('Reimbursement per Claim by Fraud Status')\n",
    "plt.xlabel('Potential Fraud')\n",
    "plt.ylabel('Reimbursement Amount ($)')\n",
    "plt.tight_layout()\n",
    "plt.savefig('Visualization_Images/reimbursement_per_claim_by_fraud.png')\n",
    "plt.close()"
   ]
  }
 ],
 "metadata": {
  "kernelspec": {
   "display_name": "Python 3 (ipykernel)",
   "language": "python",
   "name": "python3"
  },
  "language_info": {
   "codemirror_mode": {
    "name": "ipython",
    "version": 3
   },
   "file_extension": ".py",
   "mimetype": "text/x-python",
   "name": "python",
   "nbconvert_exporter": "python",
   "pygments_lexer": "ipython3",
   "version": "3.12.6"
  }
 },
 "nbformat": 4,
 "nbformat_minor": 5
}
