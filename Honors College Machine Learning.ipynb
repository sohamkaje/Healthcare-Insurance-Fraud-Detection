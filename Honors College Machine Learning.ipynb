{
 "cells": [
  {
   "cell_type": "code",
   "execution_count": 1,
   "id": "26fb4cc1-acd9-424a-aa98-0246ba8ad346",
   "metadata": {},
   "outputs": [],
   "source": [
    "# Import required libraries\n",
    "import pandas as pd\n",
    "import numpy as np\n",
    "\n",
    "# Load all cleaned datasets\n",
    "claims = pd.read_csv('Dataset_Cleaned/Cleaned_Train_Claims.csv')\n",
    "beneficiary = pd.read_csv('Dataset_Cleaned/Cleaned_Train_Beneficiary.csv')\n",
    "inpatient = pd.read_csv('Dataset_Cleaned/Cleaned_Train_Inpatient.csv')\n",
    "outpatient = pd.read_csv('Dataset_Cleaned/Cleaned_Train_Outpatient.csv')\n",
    "\n",
    "# Combine inpatient and outpatient into a single claim-level dataset\n",
    "all_claims = pd.concat([inpatient, outpatient], axis=0)"
   ]
  },
  {
   "cell_type": "code",
   "execution_count": 2,
   "id": "f3f9de64-e2b3-4473-b45f-1611efd24547",
   "metadata": {},
   "outputs": [],
   "source": [
    "claims_features = all_claims.groupby('Provider').agg(\n",
    "    total_claims=('ClaimID', 'count'),\n",
    "    avg_reimbursement=('InscClaimAmtReimbursed', 'mean'),\n",
    "    max_reimbursement=('InscClaimAmtReimbursed', 'max'),\n",
    "    total_reimbursement=('InscClaimAmtReimbursed', 'sum'),\n",
    "    avg_deductible=('DeductibleAmtPaid', 'mean')\n",
    ").reset_index()"
   ]
  },
  {
   "cell_type": "code",
   "execution_count": 3,
   "id": "2ad9b99c-2092-4430-9324-68cc0ededb1b",
   "metadata": {},
   "outputs": [],
   "source": [
    "# Convert dates to datetime\n",
    "inpatient['ClaimStartDt'] = pd.to_datetime(inpatient['ClaimStartDt'], errors='coerce')\n",
    "inpatient['ClaimEndDt'] = pd.to_datetime(inpatient['ClaimEndDt'], errors='coerce')\n",
    "\n",
    "# Compute stay length\n",
    "inpatient['LengthOfStay'] = (inpatient['ClaimEndDt'] - inpatient['ClaimStartDt']).dt.days\n",
    "inpatient = inpatient[inpatient['LengthOfStay'] >= 0]  # Remove invalid stays\n",
    "\n",
    "inpatient_los = inpatient.groupby('Provider')['LengthOfStay'].mean().reset_index()\n",
    "inpatient_los.rename(columns={'LengthOfStay': 'avg_length_of_stay'}, inplace=True)"
   ]
  },
  {
   "cell_type": "code",
   "execution_count": 4,
   "id": "197a7366-002b-4ad5-8361-e85367b395a4",
   "metadata": {},
   "outputs": [],
   "source": [
    "# Join all claims with beneficiary data\n",
    "claims_with_bene = all_claims.merge(beneficiary, on='BeneID', how='left')\n",
    "\n",
    "# Count of chronic conditions per patient\n",
    "chronic_cols = [col for col in beneficiary.columns if col.startswith('ChronicCond_')]\n",
    "claims_with_bene['num_chronics'] = claims_with_bene[chronic_cols].replace({2: 0}).sum(axis=1)\n",
    "\n",
    "# Group features at provider level\n",
    "bene_features = claims_with_bene.groupby('Provider').agg(\n",
    "    avg_patient_chronics=('num_chronics', 'mean'),\n",
    "    avg_months_partA=('NoOfMonths_PartACov', 'mean'),\n",
    "    avg_months_partB=('NoOfMonths_PartBCov', 'mean'),\n",
    "    percent_renal_disease=('RenalDiseaseIndicator', lambda x: (x == 'Y').mean()),\n",
    "    gender_ratio=('Gender', lambda x: (x == 1).mean())  # Proportion male\n",
    ").reset_index()"
   ]
  },
  {
   "cell_type": "code",
   "execution_count": 5,
   "id": "36331ccb-4c51-45ff-9a76-22663083634d",
   "metadata": {},
   "outputs": [],
   "source": [
    "# Convert '2' (no) to 0 for aggregation\n",
    "chronic_ratios = claims_with_bene.replace({2: 0})\n",
    "\n",
    "# Compute average presence of each condition per provider\n",
    "chronic_agg = chronic_ratios.groupby('Provider')[chronic_cols].mean().reset_index()\n",
    "chronic_agg.columns = ['Provider'] + [f'{col}_ratio' for col in chronic_cols]"
   ]
  },
  {
   "cell_type": "code",
   "execution_count": 7,
   "id": "8015a46f-b57c-4b8a-81d3-248aeda4f4a9",
   "metadata": {},
   "outputs": [],
   "source": [
    "# Combine all feature sets\n",
    "features_df = claims_features \\\n",
    "    .merge(inpatient_los, on='Provider', how='left') \\\n",
    "    .merge(bene_features, on='Provider', how='left') \\\n",
    "    .merge(chronic_agg, on='Provider', how='left') \\\n",
    "    .merge(claims, on='Provider', how='left')  # to get PotentialFraud label\n",
    "\n",
    "# Save to file\n",
    "features_df.to_csv('Dataset_Cleaned/provider_features.csv', index=False)"
   ]
  },
  {
   "cell_type": "code",
   "execution_count": 16,
   "id": "e56da608-5001-4d8b-b7b5-7984b8adcb4e",
   "metadata": {},
   "outputs": [],
   "source": [
    "# Import required libraries\n",
    "import pandas as pd\n",
    "import numpy as np\n",
    "from sklearn.model_selection import train_test_split\n",
    "from sklearn.preprocessing import StandardScaler\n",
    "\n",
    "# Load the feature dataset\n",
    "features = pd.read_csv('Dataset_Cleaned/provider_features.csv')\n",
    "\n",
    "# Drop non-feature columns\n",
    "X = features.drop(columns=['Provider', 'PotentialFraud'])\n",
    "X = X.fillna(X.median())\n",
    "\n",
    "scaler = StandardScaler()\n",
    "X_scaled = scaler.fit_transform(X)\n",
    "\n",
    "# Encode fraud labels (Yes = 1, No = 0)\n",
    "y = features['PotentialFraud'].map({'No': 0, 'Yes': 1})\n",
    "\n",
    "# Train-test split (stratify to handle class imbalance)\n",
    "X_train, X_test, y_train, y_test = train_test_split(\n",
    "    X_scaled, y, test_size=0.2, random_state=42, stratify=y\n",
    ")"
   ]
  },
  {
   "cell_type": "code",
   "execution_count": 18,
   "id": "5ccd89e3-9977-4158-bdc6-d4e2a682e676",
   "metadata": {},
   "outputs": [
    {
     "name": "stdout",
     "output_type": "stream",
     "text": [
      "Random Forest Results:\n",
      "ROC AUC Score: 0.7339096294950596\n",
      "              precision    recall  f1-score   support\n",
      "\n",
      "           0       0.95      0.98      0.97       981\n",
      "           1       0.74      0.49      0.59       101\n",
      "\n",
      "    accuracy                           0.94      1082\n",
      "   macro avg       0.85      0.73      0.78      1082\n",
      "weighted avg       0.93      0.94      0.93      1082\n",
      "\n",
      "--------------------------------------------------\n",
      "Logistic Regression Results:\n",
      "ROC AUC Score: 0.8797953189814394\n",
      "              precision    recall  f1-score   support\n",
      "\n",
      "           0       0.99      0.87      0.92       981\n",
      "           1       0.41      0.89      0.56       101\n",
      "\n",
      "    accuracy                           0.87      1082\n",
      "   macro avg       0.70      0.88      0.74      1082\n",
      "weighted avg       0.93      0.87      0.89      1082\n",
      "\n",
      "--------------------------------------------------\n",
      "XGBoost Results:\n",
      "ROC AUC Score: 0.7930228802696784\n",
      "              precision    recall  f1-score   support\n",
      "\n",
      "           0       0.96      0.96      0.96       981\n",
      "           1       0.63      0.62      0.63       101\n",
      "\n",
      "    accuracy                           0.93      1082\n",
      "   macro avg       0.80      0.79      0.79      1082\n",
      "weighted avg       0.93      0.93      0.93      1082\n",
      "\n",
      "--------------------------------------------------\n"
     ]
    }
   ],
   "source": [
    "from sklearn.ensemble import RandomForestClassifier\n",
    "from sklearn.linear_model import LogisticRegression\n",
    "from xgboost import XGBClassifier\n",
    "from sklearn.metrics import classification_report, roc_auc_score\n",
    "\n",
    "# Define baseline models\n",
    "models = {\n",
    "    'Random Forest': RandomForestClassifier(class_weight='balanced', random_state=42),\n",
    "    'Logistic Regression': LogisticRegression(max_iter=2000, class_weight='balanced'),\n",
    "    'XGBoost': XGBClassifier(scale_pos_weight=(y == 0).sum() / (y == 1).sum(), eval_metric='logloss', random_state=42)\n",
    "}\n",
    "\n",
    "# Evaluate each model\n",
    "for name, model in models.items():\n",
    "    print(f'{name} Results:')\n",
    "    model.fit(X_train, y_train)\n",
    "    preds = model.predict(X_test)\n",
    "    print('ROC AUC Score:', roc_auc_score(y_test, preds))\n",
    "    print(classification_report(y_test, preds))\n",
    "    print('-' * 50)"
   ]
  },
  {
   "cell_type": "code",
   "execution_count": 19,
   "id": "30b3a3a4-a2af-4cf9-8dd7-e1cd9233db48",
   "metadata": {},
   "outputs": [
    {
     "data": {
      "image/png": "[encoded data removed]",
      "text/plain": [
       "<Figure size 1000x600 with 1 Axes>"
      ]
     },
     "metadata": {},
     "output_type": "display_data"
    }
   ],
   "source": [
    "import matplotlib.pyplot as plt\n",
    "\n",
    "# Model names\n",
    "models = ['Random Forest', 'Logistic Regression', 'XGBoost']\n",
    "\n",
    "# Corresponding metric values from evaluation\n",
    "roc_auc = [0.7339, 0.8798, 0.7930]\n",
    "precision = [0.74, 0.41, 0.63]\n",
    "recall = [0.49, 0.89, 0.62]\n",
    "f1 = [0.59, 0.56, 0.63]\n",
    "\n",
    "# Bar chart configuration\n",
    "bar_width = 0.2\n",
    "index = range(len(models))\n",
    "\n",
    "# Create figure\n",
    "plt.figure(figsize=(10, 6))\n",
    "\n",
    "# Plot each metric\n",
    "plt.bar(index, roc_auc, bar_width, label='ROC AUC')\n",
    "plt.bar([i + bar_width for i in index], precision, bar_width, label='Fraud Precision')\n",
    "plt.bar([i + bar_width*2 for i in index], recall, bar_width, label='Fraud Recall')\n",
    "plt.bar([i + bar_width*3 for i in index], f1, bar_width, label='Fraud F1 Score')\n",
    "\n",
    "# Add labels and styling\n",
    "plt.xlabel('Models')\n",
    "plt.ylabel('Score')\n",
    "plt.title('Comparison of Model Performance on Fraud Detection')\n",
    "plt.xticks([i + 1.5 * bar_width for i in index], models)\n",
    "plt.ylim(0, 1)\n",
    "plt.legend()\n",
    "\n",
    "# Save and show plot\n",
    "plt.tight_layout()\n",
    "plt.savefig('model_comparison_plot.png')  # Saves to your current folder\n",
    "plt.show()"
   ]
  }
 ],
 "metadata": {
  "kernelspec": {
   "display_name": "Python 3 (ipykernel)",
   "language": "python",
   "name": "python3"
  },
  "language_info": {
   "codemirror_mode": {
    "name": "ipython",
    "version": 3
   },
   "file_extension": ".py",
   "mimetype": "text/x-python",
   "name": "python",
   "nbconvert_exporter": "python",
   "pygments_lexer": "ipython3",
   "version": "3.12.6"
  }
 },
 "nbformat": 4,
 "nbformat_minor": 5
}
