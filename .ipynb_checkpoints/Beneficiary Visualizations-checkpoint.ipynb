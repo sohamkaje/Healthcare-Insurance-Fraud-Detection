{
 "cells": [
  {
   "cell_type": "code",
   "execution_count": 1,
   "id": "12810776-39a6-482b-abc4-50b99e453c5d",
   "metadata": {},
   "outputs": [],
   "source": [
    "import pandas as pd\n",
    "import matplotlib.pyplot as plt\n",
    "import seaborn as sns\n",
    "import os"
   ]
  },
  {
   "cell_type": "code",
   "execution_count": 5,
   "id": "bb9389c3-8b96-4614-a0d7-1010f8058b8f",
   "metadata": {},
   "outputs": [],
   "source": [
    "# Load cleaned data\n",
    "beneficiary = pd.read_csv('Dataset_Cleaned/Cleaned_Train_Beneficiary.csv')\n",
    "claims = pd.read_csv('Dataset_Cleaned/Cleaned_Train_Claims.csv')\n",
    "inpatient = pd.read_csv('Dataset_Cleaned/Cleaned_Train_Inpatient.csv')\n",
    "outpatient = pd.read_csv('Dataset_Cleaned/Cleaned_Train_Outpatient.csv')"
   ]
  },
  {
   "cell_type": "code",
   "execution_count": 6,
   "id": "d1225015-c2c2-4c68-b6df-43043685362f",
   "metadata": {},
   "outputs": [],
   "source": [
    "# Merge inpatient and outpatient for broader coverage\n",
    "claims_combined = pd.concat([inpatient, outpatient])\n",
    "claims_with_labels = claims_combined.merge(claims, on='Provider', how='left')\n",
    "data = claims_with_labels.merge(beneficiary, on='BeneID', how='left')"
   ]
  },
  {
   "cell_type": "code",
   "execution_count": 8,
   "id": "f6e40788-cba7-4fe9-9983-6335ece78165",
   "metadata": {},
   "outputs": [],
   "source": [
    "# Make sure output directory exists\n",
    "os.makedirs('Visualization_Images', exist_ok=True)"
   ]
  },
  {
   "cell_type": "code",
   "execution_count": 9,
   "id": "f8b7ed00-2ce3-4d27-ba2e-2b4404d2703d",
   "metadata": {},
   "outputs": [],
   "source": [
    "# -------------------------------\n",
    "# Visualization 1: Gender vs Fraud Status\n",
    "# -------------------------------\n",
    "plt.figure(figsize=(7, 5))\n",
    "sns.countplot(data=data, x='Gender', hue='PotentialFraud', palette='Set1')\n",
    "plt.title('Gender Distribution by Provider Fraud Label')\n",
    "plt.xlabel('Gender (1 = Male, 2 = Female)')\n",
    "plt.ylabel('Number of Beneficiaries')\n",
    "plt.legend(title='Fraud Label')\n",
    "plt.tight_layout()\n",
    "plt.savefig('Visualization_Images/gender_vs_fraud.png')\n",
    "plt.close()"
   ]
  },
  {
   "cell_type": "code",
   "execution_count": 10,
   "id": "5a08f333-6ea8-4070-accb-a4e6b4a363af",
   "metadata": {},
   "outputs": [],
   "source": [
    "# -------------------------------\n",
    "# Visualization 2: Chronic Condition Correlation Heatmap\n",
    "# -------------------------------\n",
    "chronic_cols = [col for col in beneficiary.columns if col.startswith('ChronicCond_')]\n",
    "chronic_data = beneficiary[chronic_cols].replace({2: 0})  # convert '2' (no) to 0\n",
    "\n",
    "plt.figure(figsize=(10, 8))\n",
    "sns.heatmap(chronic_data.corr(), annot=True, cmap='Blues', fmt='.2f')\n",
    "plt.title('Correlation Between Chronic Conditions')\n",
    "plt.tight_layout()\n",
    "plt.savefig('Visualization_Images/chronic_conditions_correlation.png')\n",
    "plt.close()"
   ]
  }
 ],
 "metadata": {
  "kernelspec": {
   "display_name": "Python 3 (ipykernel)",
   "language": "python",
   "name": "python3"
  },
  "language_info": {
   "codemirror_mode": {
    "name": "ipython",
    "version": 3
   },
   "file_extension": ".py",
   "mimetype": "text/x-python",
   "name": "python",
   "nbconvert_exporter": "python",
   "pygments_lexer": "ipython3",
   "version": "3.12.6"
  }
 },
 "nbformat": 4,
 "nbformat_minor": 5
}
