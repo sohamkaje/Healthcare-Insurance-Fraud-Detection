{
 "cells": [
  {
   "cell_type": "code",
   "execution_count": 1,
   "id": "30f9d40a-9e46-482d-8c20-28358d22f0f8",
   "metadata": {},
   "outputs": [],
   "source": [
    "import pandas as pd\n",
    "import matplotlib.pyplot as plt\n",
    "import seaborn as sns\n",
    "import os\n",
    "import numpy as np"
   ]
  },
  {
   "cell_type": "code",
   "execution_count": 9,
   "id": "d89d315a-5a8a-4c52-a18b-28ea68464159",
   "metadata": {},
   "outputs": [],
   "source": [
    "# Load cleaned claims data\n",
    "claims = pd.read_csv('Dataset_Cleaned/Cleaned_Train_Claims.csv')"
   ]
  },
  {
   "cell_type": "code",
   "execution_count": 10,
   "id": "8e963461-e6b4-4ea6-b057-9038b07320e5",
   "metadata": {},
   "outputs": [],
   "source": [
    "# Make sure output directory exists\n",
    "os.makedirs('Visualization_Images', exist_ok=True)"
   ]
  },
  {
   "cell_type": "code",
   "execution_count": 11,
   "id": "0f8641da-a9c8-4a55-80f7-4858d857304b",
   "metadata": {},
   "outputs": [],
   "source": [
    "# -------------------------------\n",
    "# Visualization 1: Claim Volume vs Fraud Status (Simulated)\n",
    "# -------------------------------\n",
    "claims['claim_volume'] = np.random.randint(1, 500, size=len(claims))  # simulate volume\n",
    "\n",
    "plt.figure(figsize=(8, 5))\n",
    "sns.boxplot(data=claims, x='PotentialFraud', y='claim_volume', hue='PotentialFraud', palette='coolwarm', legend=False)\n",
    "plt.title('Claim Volume Distribution by Fraud Status (Simulated)')\n",
    "plt.xlabel('Potential Fraud')\n",
    "plt.ylabel('Simulated Claim Volume')\n",
    "plt.tight_layout()\n",
    "plt.savefig('Visualization_Images/claim_volume_vs_fraud_status.png')\n",
    "plt.close()"
   ]
  },
  {
   "cell_type": "code",
   "execution_count": 7,
   "id": "caab7646-0f13-44c6-83a7-3ca9da146374",
   "metadata": {},
   "outputs": [],
   "source": [
    "# -------------------------------\n",
    "# Visualization 2: Fraud Count by Provider Claim Volume Group (Simulated Countplot)\n",
    "# -------------------------------\n",
    "# This groups providers into volume categories to observe fraud distribution.\n",
    "claims['volume_group'] = pd.cut(claims['claim_volume'], bins=[0, 100, 250, 500], labels=['Low', 'Medium', 'High'])\n",
    "\n",
    "plt.figure(figsize=(8, 5))\n",
    "sns.countplot(data=claims, x='volume_group', hue='PotentialFraud', palette='pastel')\n",
    "plt.title('Fraud Count by Provider Claim Volume Group')\n",
    "plt.xlabel('Claim Volume Group')\n",
    "plt.ylabel('Number of Providers')\n",
    "plt.legend(title='Fraud')\n",
    "plt.tight_layout()\n",
    "plt.savefig('Visualization_Images/fraud_by_claim_volume_group.png')\n",
    "plt.close()"
   ]
  }
 ],
 "metadata": {
  "kernelspec": {
   "display_name": "Python 3 (ipykernel)",
   "language": "python",
   "name": "python3"
  },
  "language_info": {
   "codemirror_mode": {
    "name": "ipython",
    "version": 3
   },
   "file_extension": ".py",
   "mimetype": "text/x-python",
   "name": "python",
   "nbconvert_exporter": "python",
   "pygments_lexer": "ipython3",
   "version": "3.12.6"
  }
 },
 "nbformat": 4,
 "nbformat_minor": 5
}
