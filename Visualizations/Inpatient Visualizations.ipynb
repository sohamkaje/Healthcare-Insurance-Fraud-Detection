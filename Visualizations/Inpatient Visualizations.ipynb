{
 "cells": [
  {
   "cell_type": "code",
   "execution_count": 1,
   "id": "c0a06f10-a749-4d47-a953-2b5e3ddd82f0",
   "metadata": {},
   "outputs": [],
   "source": [
    "import pandas as pd\n",
    "import matplotlib.pyplot as plt\n",
    "import seaborn as sns\n",
    "import os"
   ]
  },
  {
   "cell_type": "code",
   "execution_count": 2,
   "id": "04159370-b183-4516-944f-9d5bf74750aa",
   "metadata": {},
   "outputs": [],
   "source": [
    "# Load data\n",
    "inpatient = pd.read_csv('Dataset_Cleaned/Cleaned_Train_Inpatient.csv')\n",
    "claims = pd.read_csv('Dataset_Cleaned/Cleaned_Train_Claims.csv')"
   ]
  },
  {
   "cell_type": "code",
   "execution_count": 3,
   "id": "7a4b2fa2-fa13-445c-a4f9-797964212834",
   "metadata": {},
   "outputs": [],
   "source": [
    "# Merge with fraud labels\n",
    "data = inpatient.merge(claims, on='Provider', how='left')"
   ]
  },
  {
   "cell_type": "code",
   "execution_count": 5,
   "id": "ff1b5756-9abb-416a-958a-d1904d39412c",
   "metadata": {},
   "outputs": [],
   "source": [
    "# Convert dates to datetime and compute stay length\n",
    "data['ClaimStartDt'] = pd.to_datetime(data['ClaimStartDt'], errors='coerce')\n",
    "data['ClaimEndDt'] = pd.to_datetime(data['ClaimEndDt'], errors='coerce')\n",
    "data['LengthOfStay'] = (data['ClaimEndDt'] - data['ClaimStartDt']).dt.days\n",
    "\n",
    "# Drop invalid or negative stays\n",
    "data = data[(data['LengthOfStay'] >= 0)]"
   ]
  },
  {
   "cell_type": "code",
   "execution_count": 6,
   "id": "9d248a8a-03ec-4559-8c06-d554ab27f3fb",
   "metadata": {},
   "outputs": [],
   "source": [
    "# Make sure output directory exists\n",
    "os.makedirs('Visualization_Images', exist_ok=True)"
   ]
  },
  {
   "cell_type": "code",
   "execution_count": 7,
   "id": "388c534f-d5d6-4ea3-a25b-78fb5592dc1a",
   "metadata": {},
   "outputs": [],
   "source": [
    "# -------------------------------\n",
    "# Visualization 1: Length of Stay vs Reimbursement (Boxplot)\n",
    "# -------------------------------\n",
    "plt.figure(figsize=(8, 6))\n",
    "sns.scatterplot(data=data, x='LengthOfStay', y='InscClaimAmtReimbursed', hue='PotentialFraud', alpha=0.6)\n",
    "plt.title('Length of Stay vs Reimbursement Amount')\n",
    "plt.xlabel('Length of Stay (Days)')\n",
    "plt.ylabel('Reimbursement ($)')\n",
    "plt.legend(title='Fraud')\n",
    "plt.tight_layout()\n",
    "plt.savefig('Visualization_Images/length_of_stay_vs_reimbursement.png')\n",
    "plt.close()"
   ]
  },
  {
   "cell_type": "code",
   "execution_count": 9,
   "id": "39ae001d-b1a6-44df-9284-f8ff1773f0de",
   "metadata": {},
   "outputs": [],
   "source": [
    "# -------------------------------\n",
    "# Visualization 2: Top 10 Inpatient Reimbursed Providers\n",
    "# -------------------------------\n",
    "top_providers = data.groupby('Provider')['InscClaimAmtReimbursed'].sum().sort_values(ascending=False).head(10)\n",
    "\n",
    "plt.figure(figsize=(10, 6))\n",
    "sns.barplot(x=top_providers.values, y=top_providers.index)\n",
    "plt.title('Top 10 Providers by Inpatient Reimbursement')\n",
    "plt.xlabel('Total Reimbursement ($)')\n",
    "plt.ylabel('Provider')\n",
    "plt.tight_layout()\n",
    "plt.savefig('Visualization_Images/top_inpatient_providers.png')\n",
    "plt.close()"
   ]
  }
 ],
 "metadata": {
  "kernelspec": {
   "display_name": "Python 3 (ipykernel)",
   "language": "python",
   "name": "python3"
  },
  "language_info": {
   "codemirror_mode": {
    "name": "ipython",
    "version": 3
   },
   "file_extension": ".py",
   "mimetype": "text/x-python",
   "name": "python",
   "nbconvert_exporter": "python",
   "pygments_lexer": "ipython3",
   "version": "3.12.6"
  }
 },
 "nbformat": 4,
 "nbformat_minor": 5
}
